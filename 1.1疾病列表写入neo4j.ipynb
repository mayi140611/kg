{
 "cells": [
  {
   "cell_type": "code",
   "execution_count": 28,
   "metadata": {},
   "outputs": [],
   "source": [
    "import pickle\n",
    "with open('diseaseattr.pkl', 'rb') as f:\n",
    "    diseaseattr = pickle.load(f)\n",
    "    \n",
    "with open('diseases.pkl', 'rb') as f:\n",
    "    disease = pickle.load(f)\n",
    "    \n",
    "with open('symptoms.pkl', 'rb') as f:\n",
    "    symptom = pickle.load(f)\n",
    "    \n",
    "with open('positions.pkl', 'rb') as f:\n",
    "    position = pickle.load(f)\n",
    "    \n",
    "with open('departments.pkl', 'rb') as f:\n",
    "    department = pickle.load(f)\n",
    "    \n",
    "with open('groups.pkl', 'rb') as f:\n",
    "    group = pickle.load(f)"
   ]
  },
  {
   "cell_type": "code",
   "execution_count": 29,
   "metadata": {},
   "outputs": [],
   "source": [
    "import itertools"
   ]
  },
  {
   "cell_type": "code",
   "execution_count": 30,
   "metadata": {},
   "outputs": [
    {
     "data": {
      "text/plain": [
       "[('disease', 'symptom'),\n",
       " ('disease', 'position'),\n",
       " ('disease', 'department'),\n",
       " ('disease', 'group'),\n",
       " ('symptom', 'position'),\n",
       " ('symptom', 'department'),\n",
       " ('symptom', 'group'),\n",
       " ('position', 'department'),\n",
       " ('position', 'group'),\n",
       " ('department', 'group')]"
      ]
     },
     "execution_count": 30,
     "metadata": {},
     "output_type": "execute_result"
    }
   ],
   "source": [
    "item = ['disease','symptom','position','department','group']\n",
    "dict(zip(range(5),item))\n",
    "cc = list(itertools.combinations(item,2))\n",
    "cc"
   ]
  },
  {
   "cell_type": "code",
   "execution_count": 31,
   "metadata": {},
   "outputs": [
    {
     "name": "stdout",
     "output_type": "stream",
     "text": [
      "('disease', 'symptom')\n",
      "0\n",
      "('disease', 'position')\n",
      "0\n",
      "('disease', 'department')\n",
      "0\n",
      "('disease', 'group')\n",
      "0\n",
      "('symptom', 'position')\n",
      "0\n",
      "('symptom', 'department')\n",
      "0\n",
      "('symptom', 'group')\n",
      "0\n",
      "('position', 'department')\n",
      "0\n",
      "('position', 'group')\n",
      "0\n",
      "('department', 'group')\n",
      "0\n"
     ]
    }
   ],
   "source": [
    "count = 0\n",
    "for a,b in itertools.combinations([disease,symptom,position,department,group],2):\n",
    "    print(cc[count])\n",
    "    print(len(a & b))\n",
    "#     if a & b:\n",
    "#         with open('0{}+{}.csv'.format(cc[count][0],cc[count][1]),'w') as f:\n",
    "#             for i in a & b:\n",
    "#                 f.write('{}\\n'.format(i))\n",
    "    count += 1"
   ]
  },
  {
   "cell_type": "code",
   "execution_count": 2,
   "metadata": {},
   "outputs": [],
   "source": [
    "'''\n",
    "图数据库的建立\n",
    "'''\n",
    "#Graph()实例化\n",
    "from py2neo import Graph\n",
    "graph = Graph(\"http://localhost:7474\",user='neo4j',password='123')\n",
    "from py2neo import Node, Relationship,size ,order"
   ]
  },
  {
   "cell_type": "code",
   "execution_count": 7,
   "metadata": {},
   "outputs": [],
   "source": [
    "#创建疾病实体\n",
    "for t in disease:\n",
    "    n = Node('instance', name=t)\n",
    "    graph.create(Node('instance', name=t))   "
   ]
  },
  {
   "cell_type": "code",
   "execution_count": 9,
   "metadata": {},
   "outputs": [],
   "source": [
    "graph.create(Node('concept', name='疾病'))"
   ]
  },
  {
   "cell_type": "code",
   "execution_count": 11,
   "metadata": {},
   "outputs": [],
   "source": [
    "for t in disease:\n",
    "    graph.run('Match (zd:instance {name:\"'+t+'\"}) Match (zz:concept {name:\"疾病\"}) CREATE (zd)-[:type]->(zz)')"
   ]
  },
  {
   "cell_type": "code",
   "execution_count": 3,
   "metadata": {},
   "outputs": [],
   "source": [
    "from py2neo.database.status import CypherSyntaxError\n",
    "def import_entity(entitys,name1):\n",
    "    for t in entitys:\n",
    "        n = Node('instance', name=t)\n",
    "        graph.create(n)  \n",
    "    graph.create(Node('concept', name=name1))    \n",
    "    for t in entitys:\n",
    "        try:\n",
    "            graph.run('Match (zd:instance {name:\"'+t+'\"}) Match (zz:concept {name:\"'+name1+'\"}) CREATE (zd)-[:type]->(zz)')\n",
    "        except CypherSyntaxError:\n",
    "            print(t)"
   ]
  },
  {
   "cell_type": "code",
   "execution_count": 4,
   "metadata": {},
   "outputs": [],
   "source": [
    "import_entity(disease,'疾病')"
   ]
  },
  {
   "cell_type": "code",
   "execution_count": 5,
   "metadata": {},
   "outputs": [],
   "source": [
    "#创建科室实体\n",
    "import_entity(department,'科室')"
   ]
  },
  {
   "cell_type": "code",
   "execution_count": 6,
   "metadata": {},
   "outputs": [],
   "source": [
    "import_entity(symptom,'症状')"
   ]
  },
  {
   "cell_type": "code",
   "execution_count": 7,
   "metadata": {},
   "outputs": [],
   "source": [
    "import_entity(position,'发病部位')\n",
    "import_entity(group,'多发人群')"
   ]
  },
  {
   "cell_type": "code",
   "execution_count": 8,
   "metadata": {},
   "outputs": [
    {
     "data": {
      "text/plain": [
       "12362"
      ]
     },
     "execution_count": 8,
     "metadata": {},
     "output_type": "execute_result"
    }
   ],
   "source": [
    "len(symptom)"
   ]
  }
 ],
 "metadata": {
  "kernelspec": {
   "display_name": "Python 3",
   "language": "python",
   "name": "python3"
  },
  "language_info": {
   "codemirror_mode": {
    "name": "ipython",
    "version": 3
   },
   "file_extension": ".py",
   "mimetype": "text/x-python",
   "name": "python",
   "nbconvert_exporter": "python",
   "pygments_lexer": "ipython3",
   "version": "3.6.4"
  }
 },
 "nbformat": 4,
 "nbformat_minor": 2
}
