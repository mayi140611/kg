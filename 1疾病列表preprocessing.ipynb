{
 "cells": [
  {
   "cell_type": "markdown",
   "metadata": {},
   "source": [
    "## 处理疾病诊断分类\n",
    "* 疾病实体含有的可能属性并集\n",
    "* 疾病实体\n",
    "* 科室实体\n",
    "* 症状实体\n",
    "* 发病部位\n",
    "* 多发群体"
   ]
  },
  {
   "cell_type": "code",
   "execution_count": 1,
   "metadata": {},
   "outputs": [],
   "source": [
    "import pymongo\n",
    "from pymongo import MongoClient\n",
    "\n",
    "client = MongoClient('localhost', 27017)\n",
    "\n",
    "#Getting a Database\n",
    "db = client['baidubaike']"
   ]
  },
  {
   "cell_type": "code",
   "execution_count": 2,
   "metadata": {},
   "outputs": [],
   "source": [
    "c = db['symptomsdetail']"
   ]
  },
  {
   "cell_type": "code",
   "execution_count": 94,
   "metadata": {},
   "outputs": [
    {
     "data": {
      "text/plain": [
       "826"
      ]
     },
     "execution_count": 94,
     "metadata": {},
     "output_type": "execute_result"
    }
   ],
   "source": [
    "#提取所有疾病实体的属性\n",
    "s = set()\n",
    "for t in c.find(no_cursor_timeout=True):\n",
    "#     print(type(t))\n",
    "#     print(set(t.keys()))\n",
    "    s = s.union(set(t.keys()))\n",
    "#     break\n",
    "\n",
    "len(s)#826\n",
    "\n",
    "#list(s)"
   ]
  },
  {
   "cell_type": "code",
   "execution_count": 113,
   "metadata": {},
   "outputs": [
    {
     "data": {
      "text/plain": [
       "6771"
      ]
     },
     "execution_count": 113,
     "metadata": {},
     "output_type": "execute_result"
    }
   ],
   "source": [
    "#提取所有疾病实体\n",
    "diseases = set()\n",
    "for t in c.find(no_cursor_timeout=True):\n",
    "    diseases.add(t['title'])\n",
    "len(diseases)#6771，和爬取网页数相同，证明没有重复"
   ]
  },
  {
   "cell_type": "code",
   "execution_count": 96,
   "metadata": {},
   "outputs": [
    {
     "data": {
      "text/plain": [
       "156"
      ]
     },
     "execution_count": 96,
     "metadata": {},
     "output_type": "execute_result"
    }
   ],
   "source": [
    "#提取就诊科室\n",
    "department = set()\n",
    "for t in c.find(no_cursor_timeout=True):\n",
    "    if 'dd就诊科室' in list(t.keys()):  \n",
    "        t['dd就诊科室'] = t['dd就诊科室'].replace('、','，').replace('：','，').replace('；','，').replace('。','，').replace('或','，').replace('和','，').replace('等','').replace('\"','')\n",
    "        tt = t['dd就诊科室'].split('，')\n",
    "        for i in range(len(tt)):\n",
    "            if tt[i] == '外壳':\n",
    "                tt[i] = '外科'\n",
    "            if not tt[i].endswith('科'):\n",
    "                tt[i] = tt[i] + '科'\n",
    "            \n",
    "        department = department.union(list(map(lambda x:x.strip(),tt)))\n",
    "                         \n",
    "len(department)#156"
   ]
  },
  {
   "cell_type": "code",
   "execution_count": 97,
   "metadata": {},
   "outputs": [
    {
     "data": {
      "text/plain": [
       "12362"
      ]
     },
     "execution_count": 97,
     "metadata": {},
     "output_type": "execute_result"
    }
   ],
   "source": [
    "#提取症状\n",
    "symptom = set()\n",
    "for t in c.find(no_cursor_timeout=True):\n",
    "    if 'dd常见症状' in list(t.keys()):  \n",
    "        t['dd常见症状'] = t['dd常见症状'].replace('、','，').replace('：','，').replace('；','，').replace('。','，').replace('或','，').replace('和','，').replace('等','').replace('\"','')\n",
    "        tt = t['dd常见症状'].split('，')\n",
    "        symptom = symptom.union([i for i in list(map(lambda x:x.strip(),tt)) if i!='' and 1<len(i)<11])\n",
    "                         \n",
    "len(symptom)#12362"
   ]
  },
  {
   "cell_type": "code",
   "execution_count": 98,
   "metadata": {},
   "outputs": [
    {
     "data": {
      "text/plain": [
       "1405"
      ]
     },
     "execution_count": 98,
     "metadata": {},
     "output_type": "execute_result"
    }
   ],
   "source": [
    "#提取发病部位\n",
    "position = set()\n",
    "for t in c.find(no_cursor_timeout=True):\n",
    "    if 'dd常见发病部位' in list(t.keys()):  \n",
    "        t['dd常见发病部位'] = t['dd常见发病部位'].replace('、','，').replace('：','，').replace('；','，').replace('。','，').replace('或','，').replace('和','，').replace('等','').replace('\"','')\n",
    "        tt = t['dd常见发病部位'].split('，')\n",
    "        position = position.union([i for i in list(map(lambda x:x.strip(),tt)) if i!='' and 1<len(i)<11])\n",
    "                         \n",
    "len(position)#1405"
   ]
  },
  {
   "cell_type": "code",
   "execution_count": 99,
   "metadata": {},
   "outputs": [
    {
     "data": {
      "text/plain": [
       "1476"
      ]
     },
     "execution_count": 99,
     "metadata": {},
     "output_type": "execute_result"
    }
   ],
   "source": [
    "#提取多发群体\n",
    "group = set()\n",
    "for t in c.find(no_cursor_timeout=True):\n",
    "    if 'dd多发群体' in list(t.keys()):  \n",
    "        t['dd多发群体'] = t['dd多发群体'].replace('、','，').replace('：','，').replace('；','，').replace('。','，').replace('或','，').replace('和','，').replace('等','').replace('\"','')\n",
    "        tt = t['dd多发群体'].split('，')\n",
    "        group = group.union([i for i in list(map(lambda x:x.strip(),tt)) if i!='' and 1<len(i)<11])\n",
    "\n",
    "group = group - department                         \n",
    "len(group)#1476"
   ]
  },
  {
   "cell_type": "code",
   "execution_count": 100,
   "metadata": {},
   "outputs": [],
   "source": [
    "position = position - department"
   ]
  },
  {
   "cell_type": "code",
   "execution_count": 101,
   "metadata": {},
   "outputs": [],
   "source": [
    "position = position - set(['十二指肠溃疡','海绵状血管瘤','皮肤平滑肌瘤','角膜炎'])"
   ]
  },
  {
   "cell_type": "code",
   "execution_count": 114,
   "metadata": {},
   "outputs": [],
   "source": [
    "diseases = diseases - set(['胸锁乳突肌','胎盘'])"
   ]
  },
  {
   "cell_type": "code",
   "execution_count": 103,
   "metadata": {},
   "outputs": [],
   "source": [
    "l = ['自身免疫性疾病',\n",
    "'糖尿病',\n",
    "'心脏病',\n",
    "'高钙血症',\n",
    "'乳腺癌',\n",
    "'前列腺癌',\n",
    "'四环素牙',\n",
    "'支气管哮喘',\n",
    "'糖尿病性视网膜病变',\n",
    "'高血压',\n",
    "'毛发红糠疹',\n",
    "'心肌炎',\n",
    "'肾癌',\n",
    "'硬皮病',\n",
    "'动脉硬化',\n",
    "'肺气肿',\n",
    "'高脂血症',\n",
    "'皮肌炎',\n",
    "'意识障碍',\n",
    "'心绞痛',\n",
    "'脑卒中',\n",
    "'干燥综合征',\n",
    "'血脂异常',\n",
    "'肝硬化',\n",
    "'肺癌',\n",
    "'先天性心脏病',\n",
    "'银屑病',\n",
    "'高脂蛋白血症',\n",
    "'关节炎',\n",
    "'白血病',\n",
    "'妊娠期高血压疾病',\n",
    "'氟斑牙',\n",
    "'包皮过长',\n",
    "'肿瘤',\n",
    "'甲状腺癌',\n",
    "'系统性红斑狼疮',\n",
    "'静脉曲张']\n",
    "group = group - set(l)"
   ]
  },
  {
   "cell_type": "code",
   "execution_count": 115,
   "metadata": {},
   "outputs": [],
   "source": [
    "l = ['胎儿','足月小样儿','早产儿','过期产儿','女性生殖系统']\n",
    "diseases = diseases - set(l)"
   ]
  },
  {
   "cell_type": "code",
   "execution_count": 105,
   "metadata": {},
   "outputs": [],
   "source": [
    "l = ['肺脏',\n",
    "'眼角膜',\n",
    "'筋骨',\n",
    "'头皮',\n",
    "'视网膜',\n",
    "'躯干',\n",
    "'眼球',\n",
    "'晶状体',\n",
    "'阴茎',\n",
    "'胸骨',\n",
    "'肌肉',\n",
    "'脐部',\n",
    "'眼睛',\n",
    "'关节'\n",
    "]\n",
    "group = group - set(l)"
   ]
  },
  {
   "cell_type": "code",
   "execution_count": 106,
   "metadata": {},
   "outputs": [],
   "source": [
    "l = ['中年以上男性',\n",
    "'儿童',\n",
    "'孕妇',\n",
    "'成人',\n",
    "'艾滋病患者',\n",
    "'婴儿期',\n",
    "'青壮年男性',\n",
    "'产妇',\n",
    "'1～6岁儿童',\n",
    "'小儿']\n",
    "position = position - set(l)"
   ]
  },
  {
   "cell_type": "code",
   "execution_count": 107,
   "metadata": {},
   "outputs": [
    {
     "data": {
      "text/plain": [
       "set()"
      ]
     },
     "execution_count": 107,
     "metadata": {},
     "output_type": "execute_result"
    }
   ],
   "source": [
    "l = position & group\n",
    "position = position - set(l)\n",
    "group = group - set(l)\n",
    "position & group"
   ]
  },
  {
   "cell_type": "code",
   "execution_count": 108,
   "metadata": {},
   "outputs": [],
   "source": [
    "symptom = symptom - {'儿童', '婴幼儿', '新生儿', '早产儿', '饮酒',}\n",
    "group = group - {'冠心病', '多发性硬化', '忧虑', '癫痫', '高血脂', '高血钾',}"
   ]
  },
  {
   "cell_type": "code",
   "execution_count": 109,
   "metadata": {},
   "outputs": [
    {
     "data": {
      "text/plain": [
       "set()"
      ]
     },
     "execution_count": 109,
     "metadata": {},
     "output_type": "execute_result"
    }
   ],
   "source": [
    "symptom = symptom - {'先天性', '原发性', '心跳', '急性', '焦急'}\n",
    "group = group - {'先天性', '原发性', '心跳', '急性', '焦急'}\n",
    "symptom & group"
   ]
  },
  {
   "cell_type": "code",
   "execution_count": 110,
   "metadata": {},
   "outputs": [],
   "source": [
    "l = symptom & position\n",
    "symptom = symptom - set(l)"
   ]
  },
  {
   "cell_type": "code",
   "execution_count": 117,
   "metadata": {},
   "outputs": [],
   "source": [
    "symptom = symptom - (diseases & symptom)"
   ]
  },
  {
   "cell_type": "code",
   "execution_count": 118,
   "metadata": {},
   "outputs": [
    {
     "name": "stdout",
     "output_type": "stream",
     "text": [
      "('diseases', 'symptom')\n",
      "0\n",
      "('diseases', 'position')\n",
      "0\n",
      "('diseases', 'department')\n",
      "0\n",
      "('diseases', 'group')\n",
      "0\n",
      "('symptom', 'position')\n",
      "0\n",
      "('symptom', 'department')\n",
      "0\n",
      "('symptom', 'group')\n",
      "0\n",
      "('position', 'department')\n",
      "0\n",
      "('position', 'group')\n",
      "0\n",
      "('department', 'group')\n",
      "0\n"
     ]
    }
   ],
   "source": [
    "import itertools\n",
    "item = ['diseases','symptom','position','department','group']\n",
    "cc = list(itertools.combinations(item,2))\n",
    "count = 0\n",
    "for a,b in itertools.combinations([diseases,symptom,position,department,group],2):\n",
    "    print(cc[count])\n",
    "    print(len(a & b))\n",
    "    count += 1"
   ]
  },
  {
   "cell_type": "code",
   "execution_count": 120,
   "metadata": {},
   "outputs": [
    {
     "name": "stdout",
     "output_type": "stream",
     "text": [
      "disease 6764\n",
      "symptom 11745\n",
      "position 1384\n",
      "department 156\n",
      "group 1409\n"
     ]
    }
   ],
   "source": [
    "item = ['disease','symptom','position','department','group']\n",
    "count = 0\n",
    "for i in [diseases,symptom,position,department,group]:\n",
    "    print(item[count],len(i))\n",
    "    count += 1"
   ]
  },
  {
   "cell_type": "code",
   "execution_count": 121,
   "metadata": {},
   "outputs": [],
   "source": [
    "import pickle\n",
    "with open('diseaseattr.pkl', 'wb') as f:\n",
    "    pickle.dump(s, f)\n",
    "    \n",
    "with open('diseases.pkl', 'wb') as f:\n",
    "    pickle.dump(diseases, f)\n",
    "    \n",
    "with open('symptoms.pkl', 'wb') as f:\n",
    "    pickle.dump(symptom, f)\n",
    "    \n",
    "with open('positions.pkl', 'wb') as f:\n",
    "    pickle.dump(position, f)\n",
    "    \n",
    "with open('departments.pkl', 'wb') as f:\n",
    "    pickle.dump(department, f)\n",
    "    \n",
    "with open('groups.pkl', 'wb') as f:\n",
    "    pickle.dump(group, f)"
   ]
  }
 ],
 "metadata": {
  "kernelspec": {
   "display_name": "Python 3",
   "language": "python",
   "name": "python3"
  },
  "language_info": {
   "codemirror_mode": {
    "name": "ipython",
    "version": 3
   },
   "file_extension": ".py",
   "mimetype": "text/x-python",
   "name": "python",
   "nbconvert_exporter": "python",
   "pygments_lexer": "ipython3",
   "version": "3.6.4"
  }
 },
 "nbformat": 4,
 "nbformat_minor": 2
}
